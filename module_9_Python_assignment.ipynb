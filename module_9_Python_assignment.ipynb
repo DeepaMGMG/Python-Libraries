{
  "nbformat": 4,
  "nbformat_minor": 0,
  "metadata": {
    "colab": {
      "provenance": [],
      "authorship_tag": "ABX9TyMYLgGbUfxVvLzmFvAO8bgb",
      "include_colab_link": true
    },
    "kernelspec": {
      "name": "python3",
      "display_name": "Python 3"
    },
    "language_info": {
      "name": "python"
    }
  },
  "cells": [
    {
      "cell_type": "markdown",
      "metadata": {
        "id": "view-in-github",
        "colab_type": "text"
      },
      "source": [
        "<a href=\"https://colab.research.google.com/github/DeepaMGMG/Python-Libraries/blob/main/module_9_Python_assignment.ipynb\" target=\"_parent\"><img src=\"https://colab.research.google.com/assets/colab-badge.svg\" alt=\"Open In Colab\"/></a>"
      ]
    },
    {
      "cell_type": "code",
      "source": [],
      "metadata": {
        "id": "5Eq0OrD--lFT"
      },
      "execution_count": 1,
      "outputs": []
    },
    {
      "cell_type": "code",
      "source": [
        "import pandas as pd\n",
        "\n",
        "d = {\n",
        "    \"chips\": 50,\n",
        "    \"snacks\": 80,\n",
        "    \"chocolate\": 50,\n",
        "    \"biscuits\": 30,\n",
        "    \"icecream\": 60,\n",
        "    \"juice\": 40,\n",
        "    \"fruits\": 70,\n",
        "    \"vegetables\": 90,\n",
        "    \"eggs\": 45,\n",
        "    \"bread\": 25,\n",
        "}\n",
        "customer_cart = {}\n",
        "\n",
        "def add_to_cart():\n",
        "  item = input(\"Enter the item you like to buy? \")\n",
        "  if item in d:\n",
        "    item_quantity = input(\"Enter the quantity of the item you want to buy? \")\n",
        "    billing(item, item_quantity)\n",
        "  else:\n",
        "    print(\"Sorry, we do not have that item in our store.\")\n",
        "\n",
        "def billing(item, item_quantity):\n",
        "  if item not in customer_cart:\n",
        "    customer_cart[item] = int(item_quantity)\n",
        "  else:\n",
        "    customer_cart[item] += int(item_quantity)\n",
        "\n",
        "def main():\n",
        "  print(\"Welcome to our store.! \")\n",
        "  print(\"Here are the list of items we have in our store.\" ,  d )\n",
        "  dicision = \"y\"\n",
        "  billable_items = []\n",
        "\n",
        "  while dicision == \"y\":\n",
        "    add_to_cart()\n",
        "    dicision = input(\"Do you want to continue and buy more items? (y/n) \")\n",
        "    print(\"\\n*******YOUR CART*********\\n\", customer_cart)\n",
        "\n",
        "  for item, quantity in customer_cart.items():\n",
        "    item_details = [item, int(quantity), int(d[item]), int(quantity) * int(d[item])]\n",
        "    billable_items.append(item_details)\n",
        "\n",
        "  print(\"Thank you for shopping with us!. Here are the list of item you selected.\\n\\n\", pd.DataFrame(billable_items, columns=[\"Item\", \"Quantity\", \"Price\", \"Total\"]))\n",
        "\n",
        "if __name__ == \"__main__\":\n",
        "  main()"
      ],
      "metadata": {
        "colab": {
          "base_uri": "https://localhost:8080/"
        },
        "id": "Jsg1XJQ2-nv7",
        "outputId": "5077a021-ae6e-47a4-ac28-6032e2728c75"
      },
      "execution_count": 16,
      "outputs": [
        {
          "output_type": "stream",
          "name": "stdout",
          "text": [
            "Welcome to our store.! \n",
            "Here are the list of items we have in our store. {'chips': 50, 'snacks': 80, 'chocolate': 50, 'biscuits': 30, 'icecream': 60, 'juice': 40, 'fruits': 70, 'vegetables': 90, 'eggs': 45, 'bread': 25}\n",
            "Enter the item you like to buy? chips\n",
            "Enter the quantity of the item you want to buy? 1\n",
            "Do you want to continue and buy more items? (y/n) icecream\n",
            "\n",
            "*******CUSTOMER CART*********\n",
            " {'chips': 1}\n",
            "Thank you for shopping with us!. Here are the list of item you selected.\n",
            "\n",
            "     Item  Quantity  Price  Total\n",
            "0  chips         1     50     50\n"
          ]
        }
      ]
    },
    {
      "cell_type": "code",
      "source": [
        "import pandas as pd\n",
        "cart = {'chips': 2, 'snacks': 2}\n",
        "\n",
        "for key, value in cart.items():\n",
        "    print(key, value)"
      ],
      "metadata": {
        "colab": {
          "base_uri": "https://localhost:8080/"
        },
        "id": "niLCjgUXgGsG",
        "outputId": "76bea97f-ac99-46ce-fc8c-d14ee060e82f"
      },
      "execution_count": 6,
      "outputs": [
        {
          "output_type": "stream",
          "name": "stdout",
          "text": [
            "chips 2\n",
            "snacks 2\n"
          ]
        }
      ]
    },
    {
      "cell_type": "code",
      "source": [],
      "metadata": {
        "id": "rVHmzsCpgM5b"
      },
      "execution_count": null,
      "outputs": []
    }
  ]
}