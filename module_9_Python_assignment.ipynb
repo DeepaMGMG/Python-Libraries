{
  "nbformat": 4,
  "nbformat_minor": 0,
  "metadata": {
    "colab": {
      "provenance": [],
      "authorship_tag": "ABX9TyN1MdYIhSISJNmaX8hf8rHT",
      "include_colab_link": true
    },
    "kernelspec": {
      "name": "python3",
      "display_name": "Python 3"
    },
    "language_info": {
      "name": "python"
    }
  },
  "cells": [
    {
      "cell_type": "markdown",
      "metadata": {
        "id": "view-in-github",
        "colab_type": "text"
      },
      "source": [
        "<a href=\"https://colab.research.google.com/github/DeepaMGMG/Python-Libraries/blob/main/module_9_Python_assignment.ipynb\" target=\"_parent\"><img src=\"https://colab.research.google.com/assets/colab-badge.svg\" alt=\"Open In Colab\"/></a>"
      ]
    },
    {
      "cell_type": "code",
      "source": [
        "d = {\n",
        "    \"chips\": 50,\n",
        "    \"snacks\": 80,\n",
        "    \"chocolate\": 50,\n",
        "    \"biscuits\": 30,\n",
        "    \"icecream\": 60,\n",
        "    \"juice\": 40,\n",
        "    \"fruits\": 70,\n",
        "    \"vegetables\": 90,\n",
        "    \"eggs\": 45,\n",
        "    \"bread\": 25,\n",
        "}"
      ],
      "metadata": {
        "id": "5Eq0OrD--lFT"
      },
      "execution_count": 1,
      "outputs": []
    },
    {
      "cell_type": "code",
      "source": [
        "print(\"Welcome to our store.! \")\n",
        "print(\"Here are the list of items we have in our store.\" ,  d )\n",
        "dicision = \"y\"\n",
        "customer_cart = {}\n",
        "\n",
        "def add_to_cart():\n",
        "  item = input(\"Enter the item you like to buy? \")\n",
        "  if item in d:\n",
        "    item_quantity = input(\"Enter the quantity of the item you want to buy? \")\n",
        "  else:\n",
        "    print(\"Sorry, we do not have that item in our store.\")\n",
        "\n",
        "  dicision = input(\"Do you want to continue and buy more items? (y/n) \")\n",
        "  return item, item_quantity, dicision\n",
        "\n",
        "def billing(item, item_quantity, dicision):\n",
        "  if item not in customer_cart:\n",
        "    customer_cart[item] = int(item_quantity)\n",
        "  else:\n",
        "    customer_cart[item] += int(item_quantity)\n",
        "\n",
        "while dicision == \"y\":\n",
        "  item, item_quantity, dicision = add_to_cart()\n",
        "  billing(item, item_quantity, dicision)\n",
        "\n",
        "  print(\"\\n*******CUSTOMER CART*********\\n\", customer_cart)\n",
        "\n",
        "print(\"Thank you for shopping with us!. Here are the list of item you selected.\", customer_cart)\n"
      ],
      "metadata": {
        "colab": {
          "base_uri": "https://localhost:8080/",
          "height": 543
        },
        "id": "Jsg1XJQ2-nv7",
        "outputId": "eb2eb783-3610-4f91-9b73-aa096fb5bfe2"
      },
      "execution_count": 7,
      "outputs": [
        {
          "name": "stdout",
          "output_type": "stream",
          "text": [
            "Welcome to our store.! \n",
            "Here are the list of items we have in our store. {'chips': 50, 'snacks': 80, 'chocolate': 50, 'biscuits': 30, 'icecream': 60, 'juice': 40, 'fruits': 70, 'vegetables': 90, 'eggs': 45, 'bread': 25}\n",
            "Enter the item you like to buy? chips\n",
            "Enter the quantity of the item you want to buy? 1\n",
            "Do you want to continue and buy more items? (y/n) y\n",
            "\n",
            "*******CUSTOMER CART*********\n",
            " {'chips': 1}\n",
            "Enter the item you like to buy? chocy\n",
            "Sorry, we do not have that item in our store.\n",
            "Do you want to continue and buy more items? (y/n) y\n"
          ]
        },
        {
          "output_type": "error",
          "ename": "UnboundLocalError",
          "evalue": "local variable 'item_quantity' referenced before assignment",
          "traceback": [
            "\u001b[0;31m---------------------------------------------------------------------------\u001b[0m",
            "\u001b[0;31mUnboundLocalError\u001b[0m                         Traceback (most recent call last)",
            "\u001b[0;32m<ipython-input-7-4ecf944ea77d>\u001b[0m in \u001b[0;36m<cell line: 22>\u001b[0;34m()\u001b[0m\n\u001b[1;32m     21\u001b[0m \u001b[0;34m\u001b[0m\u001b[0m\n\u001b[1;32m     22\u001b[0m \u001b[0;32mwhile\u001b[0m \u001b[0mdicision\u001b[0m \u001b[0;34m==\u001b[0m \u001b[0;34m\"y\"\u001b[0m\u001b[0;34m:\u001b[0m\u001b[0;34m\u001b[0m\u001b[0;34m\u001b[0m\u001b[0m\n\u001b[0;32m---> 23\u001b[0;31m   \u001b[0mitem\u001b[0m\u001b[0;34m,\u001b[0m \u001b[0mitem_quantity\u001b[0m\u001b[0;34m,\u001b[0m \u001b[0mdicision\u001b[0m \u001b[0;34m=\u001b[0m \u001b[0madd_to_cart\u001b[0m\u001b[0;34m(\u001b[0m\u001b[0;34m)\u001b[0m\u001b[0;34m\u001b[0m\u001b[0;34m\u001b[0m\u001b[0m\n\u001b[0m\u001b[1;32m     24\u001b[0m   \u001b[0mbilling\u001b[0m\u001b[0;34m(\u001b[0m\u001b[0mitem\u001b[0m\u001b[0;34m,\u001b[0m \u001b[0mitem_quantity\u001b[0m\u001b[0;34m,\u001b[0m \u001b[0mdicision\u001b[0m\u001b[0;34m)\u001b[0m\u001b[0;34m\u001b[0m\u001b[0;34m\u001b[0m\u001b[0m\n\u001b[1;32m     25\u001b[0m \u001b[0;34m\u001b[0m\u001b[0m\n",
            "\u001b[0;32m<ipython-input-7-4ecf944ea77d>\u001b[0m in \u001b[0;36madd_to_cart\u001b[0;34m()\u001b[0m\n\u001b[1;32m     12\u001b[0m \u001b[0;34m\u001b[0m\u001b[0m\n\u001b[1;32m     13\u001b[0m   \u001b[0mdicision\u001b[0m \u001b[0;34m=\u001b[0m \u001b[0minput\u001b[0m\u001b[0;34m(\u001b[0m\u001b[0;34m\"Do you want to continue and buy more items? (y/n) \"\u001b[0m\u001b[0;34m)\u001b[0m\u001b[0;34m\u001b[0m\u001b[0;34m\u001b[0m\u001b[0m\n\u001b[0;32m---> 14\u001b[0;31m   \u001b[0;32mreturn\u001b[0m \u001b[0mitem\u001b[0m\u001b[0;34m,\u001b[0m \u001b[0mitem_quantity\u001b[0m\u001b[0;34m,\u001b[0m \u001b[0mdicision\u001b[0m\u001b[0;34m\u001b[0m\u001b[0;34m\u001b[0m\u001b[0m\n\u001b[0m\u001b[1;32m     15\u001b[0m \u001b[0;34m\u001b[0m\u001b[0m\n\u001b[1;32m     16\u001b[0m \u001b[0;32mdef\u001b[0m \u001b[0mbilling\u001b[0m\u001b[0;34m(\u001b[0m\u001b[0mitem\u001b[0m\u001b[0;34m,\u001b[0m \u001b[0mitem_quantity\u001b[0m\u001b[0;34m,\u001b[0m \u001b[0mdicision\u001b[0m\u001b[0;34m)\u001b[0m\u001b[0;34m:\u001b[0m\u001b[0;34m\u001b[0m\u001b[0;34m\u001b[0m\u001b[0m\n",
            "\u001b[0;31mUnboundLocalError\u001b[0m: local variable 'item_quantity' referenced before assignment"
          ]
        }
      ]
    },
    {
      "cell_type": "code",
      "source": [
        "item"
      ],
      "metadata": {
        "colab": {
          "base_uri": "https://localhost:8080/",
          "height": 35
        },
        "id": "tFLBf0YR_IlC",
        "outputId": "ed82113e-f9a4-4e50-e9d7-421cf21892a9"
      },
      "execution_count": 5,
      "outputs": [
        {
          "output_type": "execute_result",
          "data": {
            "text/plain": [
              "'chips'"
            ],
            "application/vnd.google.colaboratory.intrinsic+json": {
              "type": "string"
            }
          },
          "metadata": {},
          "execution_count": 5
        }
      ]
    },
    {
      "cell_type": "code",
      "source": [],
      "metadata": {
        "id": "IxsCbf67_a-w"
      },
      "execution_count": null,
      "outputs": []
    }
  ]
}